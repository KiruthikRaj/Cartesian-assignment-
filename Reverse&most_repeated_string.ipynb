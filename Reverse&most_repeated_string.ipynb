{
 "cells": [
  {
   "cell_type": "code",
   "execution_count": 18,
   "id": "bc030ba2",
   "metadata": {},
   "outputs": [],
   "source": [
    "from statistics import mode"
   ]
  },
  {
   "cell_type": "code",
   "execution_count": 19,
   "id": "75205abc",
   "metadata": {},
   "outputs": [
    {
     "name": "stdout",
     "output_type": "stream",
     "text": [
      "\"This declaration represents a political commitment among declaration partners to advance a positive vision for the Internet in this era of a united europe\"\n",
      "Printing word in reverse\n",
      "\n",
      "\n",
      "\"Europe united a of era this in Internet the for vision positive a advance to partners declaration among commitment political a represents declaration this\"\n",
      "\n",
      "\n",
      "Occurrence of words\n",
      " a     : 3 \n",
      " this  : 2\n"
     ]
    }
   ],
   "source": [
    "s=eval(input()).split()\n",
    "st=\" \"\n",
    "a=s[0].lower()\n",
    "s[0]=a\n",
    "res=mode(s)\n",
    "co=s.count(mode(s))\n",
    "co2=[i for i in s if i !=mode(s)]\n",
    "m=s[::-1]\n",
    "ca=m[0].title()\n",
    "lo=m[-1].lower()\n",
    "m[-1]=lo\n",
    "m[0]=ca\n",
    "st=st.join(m)\n",
    "print(\"Printing word in reverse\\n\\n\")\n",
    "print('\"'+st+'\"\\n\\n')\n",
    "print(\"Occurrence of words\\n\",(res),'    :',(co),\"\\n\",mode(co2),' :',s.count(mode(co2)))"
   ]
  },
  {
   "cell_type": "code",
   "execution_count": 17,
   "id": "33ccbeb7",
   "metadata": {},
   "outputs": [
    {
     "data": {
      "text/plain": [
       "'This declaration represents a political commitment among declaration partners to advance a positive vision for the Internet in this era of a united europe'"
      ]
     },
     "execution_count": 17,
     "metadata": {},
     "output_type": "execute_result"
    }
   ],
   "source": [
    "\"This declaration represents a political commitment among declaration partners to advance a positive vision for the Internet in this era of a united europe\""
   ]
  },
  {
   "cell_type": "code",
   "execution_count": null,
   "id": "1a08c6f5",
   "metadata": {},
   "outputs": [],
   "source": []
  }
 ],
 "metadata": {
  "kernelspec": {
   "display_name": "Python 3 (ipykernel)",
   "language": "python",
   "name": "python3"
  },
  "language_info": {
   "codemirror_mode": {
    "name": "ipython",
    "version": 3
   },
   "file_extension": ".py",
   "mimetype": "text/x-python",
   "name": "python",
   "nbconvert_exporter": "python",
   "pygments_lexer": "ipython3",
   "version": "3.9.7"
  }
 },
 "nbformat": 4,
 "nbformat_minor": 5
}
